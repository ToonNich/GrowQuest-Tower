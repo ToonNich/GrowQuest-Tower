{
 "cells": [
  {
   "cell_type": "markdown",
   "id": "5ccd5853",
   "metadata": {},
   "source": [
    "# Load and Preprocess Data "
   ]
  },
  {
   "cell_type": "code",
   "execution_count": null,
   "id": "806bd866",
   "metadata": {},
   "outputs": [],
   "source": [
    "from tensorflow.keras.preprocessing.image import ImageDataGenerator\n",
    "from tensorflow.keras.applications import EfficientNetB0\n",
    "from tensorflow.keras.models import Model\n",
    "from tensorflow.keras.layers import Dense, GlobalAveragePooling2D , Dropout, BatchNormalization\n",
    "from tensorflow.keras.optimizers import Adam\n",
    "import numpy as np\n",
    "from collections import Counter\n",
    "from tensorflow.keras.callbacks import EarlyStopping,ReduceLROnPlateau"
   ]
  },
  {
   "cell_type": "code",
   "execution_count": null,
   "id": "0e8c84b2",
   "metadata": {},
   "outputs": [],
   "source": [
    "IMG_SIZE = (224, 224)\n",
    "BATCH_SIZE = 16\n",
    "\n",
    "train_gen = ImageDataGenerator(rescale=1./255).flow_from_directory(\n",
    "    \"D:/Senior WorkTable/GrowQuest_Data_Final/train\",\n",
    "    target_size=IMG_SIZE,\n",
    "    batch_size=BATCH_SIZE,\n",
    "    class_mode='categorical'\n",
    ")\n",
    "\n",
    "val_gen = ImageDataGenerator(rescale=1./255).flow_from_directory(\n",
    "    \"D:/Senior WorkTable/GrowQuest_Data_Final/val\",\n",
    "    target_size=IMG_SIZE,\n",
    "    batch_size=BATCH_SIZE,\n",
    "    class_mode='categorical'\n",
    ")\n",
    "\n",
    "test_gen = ImageDataGenerator(rescale=1./255).flow_from_directory(\n",
    "    \"D:/Senior WorkTable/GrowQuest_Data_Final/test\",\n",
    "    target_size=IMG_SIZE,\n",
    "    batch_size=BATCH_SIZE,\n",
    "    class_mode='categorical',\n",
    "    shuffle=False\n",
    ")\n"
   ]
  },
  {
   "cell_type": "markdown",
   "id": "6861bcea",
   "metadata": {},
   "source": [
    "# Load and Fine-Tune EfficientNet"
   ]
  },
  {
   "cell_type": "code",
   "execution_count": null,
   "id": "6459f080",
   "metadata": {},
   "outputs": [],
   "source": [
    "base_model = EfficientNetB0(weights='imagenet', include_top=False, input_shape=(224, 224, 3))\n",
    "x = GlobalAveragePooling2D()(base_model.output)\n",
    "x = Dense(128, activation='relu')(x)\n",
    "output = Dense(train_gen.num_classes, activation='softmax')(x)\n",
    "\n",
    "model = Model(inputs=base_model.input, outputs=output)\n",
    "\n",
    "# Freeze base model initially\n",
    "base_model.trainable = False\n",
    "\n",
    "model.compile(optimizer=Adam(learning_rate=1e-3),\n",
    "              loss='categorical_crossentropy',\n",
    "              metrics=['accuracy'])\n"
   ]
  },
  {
   "cell_type": "markdown",
   "id": "b0ef5c61",
   "metadata": {},
   "source": [
    "# Fine-Tune"
   ]
  },
  {
   "cell_type": "markdown",
   "id": "02a42d05",
   "metadata": {},
   "source": [
    "Unfreeze base layers and fine-tune at lower LR:"
   ]
  },
  {
   "cell_type": "code",
   "execution_count": null,
   "id": "28ef4fe9",
   "metadata": {},
   "outputs": [],
   "source": [
    "all_classes = np.concatenate([\n",
    "    train_gen.classes,\n",
    "    val_gen.classes,\n",
    "    test_gen.classes\n",
    "])\n",
    "\n",
    "# Count how many images per class\n",
    "class_counts = Counter(all_classes)\n",
    "\n",
    "# Get class label names\n",
    "class_labels = train_gen.class_indices\n",
    "idx_to_class = {v: k for k, v in class_labels.items()}\n",
    "\n",
    "# Print results\n",
    "for class_idx, count in class_counts.items():\n",
    "    print(f\"Class '{idx_to_class[class_idx]}': {count} images\")"
   ]
  },
  {
   "cell_type": "code",
   "execution_count": null,
   "id": "9066c8c6",
   "metadata": {},
   "outputs": [],
   "source": [
    "base_model = EfficientNetB0(weights='imagenet', include_top=False, input_shape=(224, 224, 3))\n",
    "x = GlobalAveragePooling2D()(base_model.output)\n",
    "x = Dropout(0.3)(x)  # Add dropout layer\n",
    "x = Dense(128, activation='relu')(x)\n",
    "x = BatchNormalization()(x)                 \n",
    "x = Dropout(0.5)(x)  # Add dropout layer\n",
    "output = Dense(train_gen.num_classes, activation='softmax')(x)\n",
    "\n",
    "model = Model(inputs=base_model.input, outputs=output)\n",
    "\n",
    "# Freeze base model initially\n",
    "base_model.trainable = False\n"
   ]
  },
  {
   "cell_type": "code",
   "execution_count": null,
   "id": "35b9566e",
   "metadata": {},
   "outputs": [],
   "source": [
    "early_stop = EarlyStopping(\n",
    "    monitor='val_loss',     # Monitor validation loss\n",
    "    patience=3,             # Stop after 3 epochs with no improvement\n",
    "    restore_best_weights=True # Restore weights from the best epoch\n",
    ")\n",
    "\n",
    "reduce_lr = ReduceLROnPlateau (monitor='val_loss',\n",
    "                            factor=0.5,\n",
    "                            patience=2, \n",
    "                            min_lr=1e-6)\n"
   ]
  },
  {
   "cell_type": "code",
   "execution_count": null,
   "id": "4ce6179b",
   "metadata": {},
   "outputs": [],
   "source": [
    "base_model.trainable = True\n",
    "model.compile(optimizer=Adam(learning_rate=1e-3), \n",
    "            loss='categorical_crossentropy', \n",
    "            metrics=['accuracy'],\n",
    ")\n",
    "\n",
    "history = model.fit(train_gen, \n",
    "                    validation_data=val_gen,\n",
    "                    epochs=10,\n",
    "                    callbacks=[early_stop,reduce_lr])\n"
   ]
  },
  {
   "cell_type": "code",
   "execution_count": null,
   "id": "520487fe",
   "metadata": {},
   "outputs": [],
   "source": [
    "import matplotlib.pyplot as plt\n",
    "\n",
    "# Plot Accuracy\n",
    "plt.plot(history.history['accuracy'], label='Train Accuracy')\n",
    "plt.plot(history.history['val_accuracy'], label='Val Accuracy')\n",
    "plt.xlabel('Epoch')\n",
    "plt.ylabel('Accuracy')\n",
    "plt.legend()\n",
    "plt.title('Accuracy over Epochs')\n",
    "plt.grid(True)\n",
    "plt.show()\n",
    "\n",
    "# Plot Loss\n",
    "plt.plot(history.history['loss'], label='Train Loss')\n",
    "plt.plot(history.history['val_loss'], label='Val Loss')\n",
    "plt.xlabel('Epoch')\n",
    "plt.ylabel('Loss')\n",
    "plt.legend()\n",
    "plt.title('Loss over Epochs')\n",
    "plt.grid(True)\n",
    "plt.show()\n"
   ]
  }
 ],
 "metadata": {
  "kernelspec": {
   "display_name": "efficientnet",
   "language": "python",
   "name": "python3"
  },
  "language_info": {
   "codemirror_mode": {
    "name": "ipython",
    "version": 3
   },
   "file_extension": ".py",
   "mimetype": "text/x-python",
   "name": "python",
   "nbconvert_exporter": "python",
   "pygments_lexer": "ipython3",
   "version": "3.10.16"
  }
 },
 "nbformat": 4,
 "nbformat_minor": 5
}
